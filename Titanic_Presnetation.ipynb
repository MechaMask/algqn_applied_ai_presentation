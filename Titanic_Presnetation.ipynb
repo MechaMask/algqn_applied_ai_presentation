{
 "cells": [
  {
   "cell_type": "code",
   "execution_count": null,
   "id": "2faa38e2-4b80-472a-81b7-fe50903a9820",
   "metadata": {},
   "outputs": [],
   "source": [
    "import numpy as np\n",
    "import pandas as pd\n",
    "import matplotlib.pyplot as plt"
   ]
  },
  {
   "cell_type": "code",
   "execution_count": null,
   "id": "e09a5c4d",
   "metadata": {},
   "outputs": [],
   "source": [
    "%matplotlib inline"
   ]
  },
  {
   "cell_type": "code",
   "execution_count": null,
   "id": "d6a0e4c2-cfb7-407c-a61d-fd0e572d22d2",
   "metadata": {},
   "outputs": [],
   "source": [
    "data = pd.read_csv('Titanic.csv')"
   ]
  },
  {
   "cell_type": "code",
   "execution_count": null,
   "id": "3a3abecd-4f0b-43f9-b285-e6892b2f98c7",
   "metadata": {},
   "outputs": [],
   "source": [
    "def clean_data(data, attributes = None):\n",
    "    cleaned_data = data.drop_duplicates()\n",
    "    if not attributes is None:\n",
    "        cleaned_data= data[attributes]\n",
    "    return cleaned_data\n",
    "    "
   ]
  },
  {
   "cell_type": "code",
   "execution_count": null,
   "id": "201a0217-394e-4154-962e-83b334dff0d3",
   "metadata": {},
   "outputs": [],
   "source": [
    "select = [\"Age\",\n",
    "          \"No of Siblings or Spouses on Board\",\n",
    "          \"No of Parents or Children on Board\",\n",
    "          \"Passenger Class\",\n",
    "          \"Passenger Fare\",\n",
    "          \"Port of Embarkation\",\n",
    "          \"Sex\",\n",
    "          \"Survived\"]\n",
    "cleaned_data = clean_data(data, select)"
   ]
  },
  {
   "cell_type": "code",
   "execution_count": null,
   "id": "3ce5abab",
   "metadata": {},
   "outputs": [],
   "source": [
    "#Fill missing Age values\n",
    "average_age = np.mean(cleaned_data[\"Age\"].dropna()) # ignoring any missing values (NaN) using dropna()\n",
    "\n",
    "# Replace all missing Age values with the calculated average age.\n",
    "cleaned_data.loc[:, \"Age\"] = cleaned_data[\"Age\"].fillna(average_age) \n",
    "\n",
    "print(\"Average Age (used to fill missing):\", round(average_age, 2))\n",
    "\n",
    "# Find the highest passenger fare (maximum value) in the dataset.\n",
    "max_fare = np.max(cleaned_data[\"Passenger Fare\"])\n",
    "\n",
    "# Find the lowest passenger fare (minimum value) in the dataset.\n",
    "min_fare = np.min(cleaned_data[\"Passenger Fare\"])\n",
    "\n",
    "# Find the average passenger fare (mean value) in the dataset.\n",
    "mean_fare = np.mean(cleaned_data[\"Passenger Fare\"])\n",
    "\n",
    "print(\"\\nFare stats → max:\", max_fare, \" min:\", min_fare, \" avg:\", round(mean_fare, 2))"
   ]
  },
  {
   "cell_type": "code",
   "execution_count": null,
   "id": "e257e8df",
   "metadata": {},
   "outputs": [],
   "source": [
    "# Survival by gender\n",
    "\n",
    "# Group the dataset by the Sex column and calculate the mean of the Survived values.\n",
    "survival_by_gender = cleaned_data.groupby(\"Sex\")[\"Survived\"].mean()\n",
    "\n",
    "plt.figure()\n",
    "plt.bar(survival_by_gender.index, survival_by_gender.values)\n",
    "\n",
    "# Add a descriptive title and axis labels to explain what the chart shows.\n",
    "plt.title(\"Survival Rate by Gender\")\n",
    "plt.xlabel(\"Gender\"); plt.ylabel(\"Rate\")\n",
    "\n",
    "# Adjusts spacing automatically so labels and titles don’t overlap.\n",
    "plt.tight_layout(); plt.show()\n",
    "\n",
    "\n",
    "# Survival by class\n",
    "cls_col = \"Passenger Class\"  # Define which column name represents passenger class.\n",
    "\n",
    "# Group the dataset by passenger class and calculate the average survival rate per class.\n",
    "survival_by_class = cleaned_data.groupby(cls_col)[\"Survived\"].mean()\n",
    "plt.figure()\n",
    "\n",
    "# Plot the survival rate by class as a bar chart.\n",
    "plt.bar(survival_by_class.index, survival_by_class.values)\n",
    "\n",
    "# Add a title and labels to clarify what the chart represents.\n",
    "plt.title(\"Survival Rate by Passenger Class\")\n",
    "plt.xlabel(\"Class (1=First,3=Third)\"); plt.ylabel(\"Rate\")\n",
    "\n",
    "# Fix layout spacing for readability.\n",
    "plt.tight_layout(); plt.show()\n"
   ]
  },
  {
   "cell_type": "code",
   "execution_count": null,
   "id": "202dc769",
   "metadata": {},
   "outputs": [],
   "source": []
  }
 ],
 "metadata": {
  "kernelspec": {
   "display_name": "Python 3 (ipykernel)",
   "language": "python",
   "name": "python3"
  },
  "language_info": {
   "codemirror_mode": {
    "name": "ipython",
    "version": 3
   },
   "file_extension": ".py",
   "mimetype": "text/x-python",
   "name": "python",
   "nbconvert_exporter": "python",
   "pygments_lexer": "ipython3",
   "version": "3.13.5"
  }
 },
 "nbformat": 4,
 "nbformat_minor": 5
}
