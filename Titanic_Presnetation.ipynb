{
 "cells": [
  {
   "cell_type": "code",
   "execution_count": 1,
   "id": "2faa38e2-4b80-472a-81b7-fe50903a9820",
   "metadata": {},
   "outputs": [],
   "source": [
    "import numpy as np\n",
    "import pandas as pd\n",
    "import matplotlib.pyplot as plt"
   ]
  },
  {
   "cell_type": "code",
   "execution_count": 4,
   "id": "d6a0e4c2-cfb7-407c-a61d-fd0e572d22d2",
   "metadata": {},
   "outputs": [],
   "source": [
    "data = pd.read_csv('Titanic.csv')"
   ]
  },
  {
   "cell_type": "code",
   "execution_count": 40,
   "id": "3a3abecd-4f0b-43f9-b285-e6892b2f98c7",
   "metadata": {},
   "outputs": [],
   "source": [
    "def clean_data(data, attributes = None):\n",
    "    cleaned_data = data.drop_duplicates()\n",
    "    if not attributes is None:\n",
    "        cleaned_data= data[attributes]\n",
    "    return cleaned_data\n",
    "    "
   ]
  },
  {
   "cell_type": "code",
   "execution_count": 41,
   "id": "201a0217-394e-4154-962e-83b334dff0d3",
   "metadata": {},
   "outputs": [],
   "source": [
    "select = [\"Age\",\n",
    "          \"No of Siblings or Spouses on Board\",\n",
    "          \"No of Parents or Children on Board\",\n",
    "          \"Passenger Class\",\n",
    "          \"Passenger Fare\",\n",
    "          \"Port of Embarkation\",\n",
    "          \"Sex\",\n",
    "          \"Survived\"]\n",
    "cleaned_data = clean_data(data, select)"
   ]
  }
 ],
 "metadata": {
  "kernelspec": {
   "display_name": "Python 3 (ipykernel)",
   "language": "python",
   "name": "python3"
  },
  "language_info": {
   "codemirror_mode": {
    "name": "ipython",
    "version": 3
   },
   "file_extension": ".py",
   "mimetype": "text/x-python",
   "name": "python",
   "nbconvert_exporter": "python",
   "pygments_lexer": "ipython3",
   "version": "3.13.5"
  }
 },
 "nbformat": 4,
 "nbformat_minor": 5
}
